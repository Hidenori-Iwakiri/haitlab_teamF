{
  "nbformat": 4,
  "nbformat_minor": 0,
  "metadata": {
    "colab": {
      "name": "yolo_2class.ipynb",
      "provenance": [],
      "private_outputs": true,
      "collapsed_sections": []
    },
    "kernelspec": {
      "name": "python3",
      "display_name": "Python 3"
    },
    "accelerator": "GPU"
  },
  "cells": [
    {
      "cell_type": "code",
      "metadata": {
        "id": "Trv4CU6DgdPa",
        "colab_type": "code",
        "colab": {}
      },
      "source": [
        "# ドライブへのマウント(毎回やる必要はないです)\n",
        "from google.colab import drive\n",
        "drive.mount('/content/drive')"
      ],
      "execution_count": 0,
      "outputs": []
    },
    {
      "cell_type": "code",
      "metadata": {
        "id": "34u3B_QFgoKi",
        "colab_type": "code",
        "colab": {}
      },
      "source": [
        "#darknetディレクトリに移動　\n",
        "cd /content/drive/My \\Drive/darknet"
      ],
      "execution_count": 0,
      "outputs": []
    },
    {
      "cell_type": "code",
      "metadata": {
        "id": "spQgglQkgxgQ",
        "colab_type": "code",
        "colab": {}
      },
      "source": [
        "# makeコマンド(ここでエラーが生じるかもしれないので、出たら報告してください)\n",
        "%%bash\n",
        "make"
      ],
      "execution_count": 0,
      "outputs": []
    },
    {
      "cell_type": "code",
      "metadata": {
        "id": "N8UEgsNrzhSd",
        "colab_type": "code",
        "colab": {}
      },
      "source": [
        "# makeコマンドを打ったときに、「make: Nothing to be done for `all'.」と出てきたら、このコマンドを打ってみてください(うまくいけば不要です)\n",
        "# %%bash\n",
        "# make clean"
      ],
      "execution_count": 0,
      "outputs": []
    },
    {
      "cell_type": "code",
      "metadata": {
        "id": "VEWizV9YhnSg",
        "colab_type": "code",
        "colab": {}
      },
      "source": [
        "# trainデータとtestデータに分割 (test.txtとtrain.txtという画像へのパスが列挙されたファイルがdata/imagesに生成されるので、確認してみてください)\n",
        "! python3 process.py"
      ],
      "execution_count": 0,
      "outputs": []
    },
    {
      "cell_type": "code",
      "metadata": {
        "id": "A3snuyRxg0Bx",
        "colab_type": "code",
        "colab": {}
      },
      "source": [
        "# 学習を行う\n",
        "# 実行ログが何を表しているかは、資料をみてください\n",
        "! ./darknet detector train cfg/obj.data cfg/yolov3-voc.cfg darknet53.conv.74\n",
        "\"\"\"\n",
        "何らかの問題で学習が終了してしまった...というときも、途中の重みデータがbackupフォルダに残っているはずなので、そこから学習を再開できます。\n",
        "例)\n",
        "./darknet detector train cfg/obj.data cfg/yolov3-voc.cfg backup/yolov3-voc_1300.weights\n",
        "\"\"\""
      ],
      "execution_count": 0,
      "outputs": []
    },
    {
      "cell_type": "code",
      "metadata": {
        "id": "7nb0W_gqrcTR",
        "colab_type": "code",
        "colab": {}
      },
      "source": [
        "# 学習で得られた重みデータを用いて予測を行う\n",
        "# 詳細は資料参照で(重みデータと画像は適宜変更してください)\n",
        "!./darknet detector test cfg/obj.data cfg/yolov3-voc.cfg backup/yolov3-voc_2400.weights data/images/satumaimo_016.jpg "
      ],
      "execution_count": 0,
      "outputs": []
    },
    {
      "cell_type": "code",
      "metadata": {
        "id": "e6ieSeXGhkoB",
        "colab_type": "code",
        "colab": {}
      },
      "source": [
        "# 予測結果を画像で確認\n",
        "# このコードは特にいじる必要ないです\n",
        "import cv2\n",
        "import matplotlib.pyplot as plt\n",
        "import os.path\n",
        "\n",
        "# 座標軸の削除処理\n",
        "fig,ax = plt.subplots()\n",
        "ax.tick_params(labelbottom=\"off\",bottom=\"off\")\n",
        "ax.tick_params(labelleft=\"off\",left=\"off\")\n",
        "ax.set_xticklabels([]) \n",
        "ax.axis('off')\n",
        "\n",
        "file = './predictions.jpg'\n",
        "if os.path.exists(file):\n",
        "  img = cv2.imread(file)\n",
        "  show_img = cv2.cvtColor(img, cv2.COLOR_BGR2RGB) \n",
        "  plt.imshow(show_img)"
      ],
      "execution_count": 0,
      "outputs": []
    },
    {
      "cell_type": "code",
      "metadata": {
        "id": "JOdvMq2DtKMJ",
        "colab_type": "code",
        "colab": {}
      },
      "source": [
        ""
      ],
      "execution_count": 0,
      "outputs": []
    }
  ]
}